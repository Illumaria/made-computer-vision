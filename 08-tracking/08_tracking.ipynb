{
 "cells": [
  {
   "cell_type": "markdown",
   "metadata": {},
   "source": [
    "<img style=\"float: left;\" src=\"resources/made.jpg\" width=\"35%\" height=\"35%\" />"
   ]
  },
  {
   "cell_type": "markdown",
   "metadata": {},
   "source": [
    "# Академия MADE"
   ]
  },
  {
   "cell_type": "markdown",
   "metadata": {},
   "source": [
    "# Семинар 8\n",
    "\n",
    "Преподаватель: Иван Карпухин, ведущий программист-исследователь команды машинного зрения.\n",
    "\n",
    "<div style=\"clear:both;\"></div>\n",
    "\n",
    "Для выполнения работы нужны следующие пакеты (Python 3):\n",
    "* filterpy\n",
    "* matplotlib\n",
    "* numpy\n",
    "* opencv-python\n",
    "* tqdm\n",
    "* pyyaml\n",
    "\n",
    "Установить их можно командой:\n",
    "```bash\n",
    "pip install -q filterpy matplotlib numpy opencv-python tqdm pyyaml\n",
    "```"
   ]
  },
  {
   "cell_type": "code",
   "execution_count": 1,
   "metadata": {},
   "outputs": [],
   "source": [
    "# Раскомментируйте строчку ниже, чтобы установить зависимости:\n",
    "!pip install -q filterpy matplotlib numpy opencv-python tqdm pyyaml"
   ]
  },
  {
   "cell_type": "markdown",
   "metadata": {},
   "source": [
    "## Часть 1. Трекинг: фильтр Калмана\n",
    "\n",
    "В этой части семинара применим фильтр Калмана к предсказанию перемещения людей.\n",
    "\n",
    "Мы воспользуемся готовой реализацией фильтра. В рамках семинара предлагается настроить парметры фильтра и применить его."
   ]
  },
  {
   "cell_type": "code",
   "execution_count": 2,
   "metadata": {},
   "outputs": [],
   "source": [
    "from IPython.display import Video\n",
    "\n",
    "import numpy as np\n",
    "from matplotlib import pyplot as plt\n",
    "\n",
    "import check\n",
    "import seminar"
   ]
  },
  {
   "cell_type": "code",
   "execution_count": 3,
   "metadata": {},
   "outputs": [],
   "source": [
    "# Исходное видео:\n",
    "VIDEO_PATH = \"data/sample.mp4\"\n",
    "\n",
    "# Видео с обнаруженными лицами:\n",
    "DEMO_PATH = \"data/sample-demo.mp4\"\n",
    "\n",
    "# Результаты работы детектора:\n",
    "DETECTIONS_PATH = \"data/sample-tracks.yaml\"\n",
    "\n",
    "# Видео, куда сохранится результат трекинга:\n",
    "OUTPUT_PATH = \"data/output-demo.mp4\""
   ]
  },
  {
   "cell_type": "markdown",
   "metadata": {},
   "source": [
    "### Входные данные для трекера\n",
    "\n",
    "К нам поступил [видеофайл](https://www.youtube.com/watch?v=SvldnZ6qMGU) с записью людей на проходе в торговом центре. У нас имеется детектор лиц. Мы применили детектор лиц к видеофайлу и для каждого кадра получили набор описывающих прямоугольников (bounding box, BBox):\n",
    "\n",
    "<img align=\"left\" src=\"resources/video-frame.jpg\" width=\"80%\" height=\"80%\">\n",
    "<div style=\"clear:both;\"></div>\n",
    "\n",
    "На видео ниже полные результат работы детектора:"
   ]
  },
  {
   "cell_type": "code",
   "execution_count": 4,
   "metadata": {},
   "outputs": [
    {
     "data": {
      "text/html": [
       "<video src=\"data/sample-demo.mp4\" controls  width=\"400\" >\n",
       "      Your browser does not support the <code>video</code> element.\n",
       "    </video>"
      ],
      "text/plain": [
       "<IPython.core.display.Video object>"
      ]
     },
     "execution_count": 4,
     "metadata": {},
     "output_type": "execute_result"
    }
   ],
   "source": [
    "Video(DEMO_PATH, width=400)"
   ]
  },
  {
   "cell_type": "markdown",
   "metadata": {},
   "source": [
    "Результаты работы детектора лиц хранятся в списке detections. Его длина соответствует числу кадров в видео (немного короче, т.к. в конце видео не нашлось детектов). Каждый элемент detections содержит список прямоуголников для кадра видео. Каждый прямоугольник задаётся четвёркой чисел: \\[left, top, width, height\\], или сокращённо \\[l, t, w, h\\]."
   ]
  },
  {
   "cell_type": "code",
   "execution_count": 5,
   "metadata": {},
   "outputs": [
    {
     "name": "stdout",
     "output_type": "stream",
     "text": [
      "Размер кадра: 960x720\n",
      "Число кадров: 119\n",
      "Частота кадров: 6.0\n",
      "\n",
      "Общее число детектов: 393\n",
      "Лица на 1-м кадре: [[228, 363, 61, 75]]\n",
      "Лица на 60-м кадре: [[139, 601, 80, 109], [542, 134, 49, 58], [460, 99, 47, 63]]\n"
     ]
    }
   ],
   "source": [
    "FRAME_WIDTH, FRAME_HEIGHT, NUM_FRAMES, FRAME_RATE = seminar.video_probe(VIDEO_PATH)\n",
    "print(\"Размер кадра: {}x{}\".format(FRAME_WIDTH, FRAME_HEIGHT))\n",
    "print(\"Число кадров:\", NUM_FRAMES)\n",
    "print(\"Частота кадров:\", FRAME_RATE)\n",
    "\n",
    "detections, embeddings, markup = seminar.read_data(DETECTIONS_PATH)\n",
    "\n",
    "print()\n",
    "print(\"Общее число детектов:\", sum(map(len, detections)))\n",
    "print(\"Лица на 1-м кадре:\", detections[0])\n",
    "print(\"Лица на 60-м кадре:\", detections[59])"
   ]
  },
  {
   "cell_type": "markdown",
   "metadata": {},
   "source": [
    "ЗАДАНИЕ: Какая высота у 2-го прямоугольника на 16-м кадре?"
   ]
  },
  {
   "cell_type": "code",
   "execution_count": 6,
   "metadata": {},
   "outputs": [
    {
     "name": "stdout",
     "output_type": "stream",
     "text": [
      "Результат: отлично!\n"
     ]
    }
   ],
   "source": [
    "height_16_2 = detections[15][1][3]\n",
    "\n",
    "assert check.check_height_16_2(height_16_2, detections)"
   ]
  },
  {
   "cell_type": "markdown",
   "metadata": {},
   "source": [
    "### Фильтр Калмана\n",
    "\n",
    "Мы хотим сгруппировать прямоугольники с разных кадров для каждого человека. На изображении ниже X и Y это координаты пикселя, а T - время. Разными цветами помечены прямоугольники разных лиц.\n",
    "\n",
    "<img align=\"left\" src=\"resources/tracking.jpg\" width=\"35%\" height=\"35%\">\n",
    "<div style=\"clear:both;\"></div>\n",
    "\n",
    "Выполнять группировку мы будем последовательно: кадр за кадром. Связывать прямоугольники на соседних кадрах будем в два шага:\n",
    "\n",
    "1. предскажем куда может переместиться прямоугольник за один кадр,\n",
    "2. из обнаруженных на следующем кадре прямоугольников найдём ближайший к предсказанному.\n",
    "\n",
    "<img align=\"left\" src=\"resources/prediction.jpg\" width=\"35%\" height=\"35%\">\n",
    "<div style=\"clear:both;\"></div>\n",
    "\n",
    "В этой части семинара реализуем только шаг предсказания.\n",
    "\n",
    "В алгоритме [Simple online and realtime tracking (SORT)](https://arxiv.org/pdf/1602.00763.pdf]) задача предсказания решается с использованием фильтра Калмана.\n",
    "\n",
    "Чтобы применить фильтр, нужно определить динамический процесс. Состояние каждого прямоугольника в каждый момент времени будем описывать вектором \\[x, y, s, r, x', y', s'\\], где:\n",
    "* x: X координата центра прямоугольника\n",
    "* y: Y координата центра прямоугольника\n",
    "* s: Масштаб, среднее арифметическое ширины и высоты: 0.5 * (width + height)\n",
    "* r: Отношение ширины и высоты: width / height\n",
    "* x': Скорость изменения X\n",
    "* y': Скорость изменения Y\n",
    "* s': Скорость изменения масштаба\n",
    "\n",
    "Параметр r считается постоянным и для него нет скорости изменения.\n",
    "\n",
    "Фильтр Калмана позволяет по новому наблюдению оптимально обновить состояние. Поскольку состояние содержит положение и скорость, мы сможем по состоянию предсказать следующий прямоугольник."
   ]
  },
  {
   "cell_type": "markdown",
   "metadata": {},
   "source": [
    "ЗАДАНИЕ. В фильтре используется формат прямоугольников \\[x, y, s, r\\], отличный от исходного \\[l, t, w, h\\]. Предлагается реализовать преобразование формата в функции ниже."
   ]
  },
  {
   "cell_type": "code",
   "execution_count": 7,
   "metadata": {},
   "outputs": [
    {
     "name": "stdout",
     "output_type": "stream",
     "text": [
      "Результат: отлично!\n"
     ]
    }
   ],
   "source": [
    "def ltwh2xysr(ltwh):\n",
    "    \"\"\"Преобразовать формат прямоугольника из [l, t, w, h] в [x, y, s, r].\n",
    "\n",
    "    Вход может содержать вещественные числа. Выход не нужо округлять до целых.\n",
    "\n",
    "    На входе и на выходе могут быть и списки и массивы Numpy.\n",
    "\n",
    "    Вход: прямоугольник в формате [l, t, w, h].\n",
    "    Выход: прямоугольник в формате [x, y, s, r].\n",
    "    \"\"\"\n",
    "    l, t, w, h = ltwh\n",
    "    x = l + w / 2\n",
    "    y = t + h / 2\n",
    "    s = (w + h) / 2\n",
    "    r = w / h\n",
    "    return [x, y, s, r]\n",
    "\n",
    "\n",
    "assert check.check_ltwh2xysr(ltwh2xysr)"
   ]
  },
  {
   "cell_type": "markdown",
   "metadata": {},
   "source": [
    "Аналогично введём обратное преобразование"
   ]
  },
  {
   "cell_type": "code",
   "execution_count": 8,
   "metadata": {},
   "outputs": [],
   "source": [
    "def xysr2ltwh(xysr):\n",
    "    \"\"\"Преобразовать формат прямоугольника из [x, y, s, r] в [l, t, w, h].\n",
    "\n",
    "    На входе и на выходе могут быть и списки и массивы Numpy.\n",
    "\n",
    "    Вход может содержать вещественные числа. Выход не нужо округлять до целых.\n",
    "\n",
    "    Вход: прямоугольник в формате [x, y, s, r].\n",
    "    Выход: прямоугольник в формате [l, t, w, h].\n",
    "    \"\"\"\n",
    "    x, y, s, r = xysr\n",
    "    h = 2 * s / (r + 1)\n",
    "    w = r * h\n",
    "    l = x - w / 2\n",
    "    t = y - h / 2\n",
    "    return [l, t, w, h]"
   ]
  },
  {
   "cell_type": "markdown",
   "metadata": {},
   "source": [
    "Фильтр Калмана применяется к процессам вида:\n",
    "\n",
    "$State_k = F State_{k-1} + B u_k + w_k$\n",
    "\n",
    "Обозначения:\n",
    "\n",
    "$State_k$ - состояние \\[x, y, s, r, x', y', s'\\] в момент времени k.\n",
    "\n",
    "$F$ - матрица эволюции системы, которая по предыдущему состоянию позволяет предсказать следующее.\n",
    "\n",
    "$B$ - матрица управляющего воздействие (нулевая матрица, т.к. мы только наблюдаем).\n",
    "\n",
    "$u_k$ - управляющее воздействие (нулевой вектор, т.к. мы только наблюдаем).\n",
    "\n",
    "$w_k$ - ошибка предсказания модели: случайный вектор с распределением $\\mathcal{N}(0, Q)$, где $Q$ - ковариационная матрица.\n",
    "\n",
    "<br>\n",
    "\n",
    "Поскольку $B$ и $u_k$ в нашем случае равны нулю, получаем:\n",
    "\n",
    "$State_k = F State_{k-1}  + w_k$\n",
    "\n",
    "<br>\n",
    "\n",
    "Мы умеем предсказывать следующее состояние, но также умеем наблюдать реальные исходы $z_k$:\n",
    "\n",
    "$z_k = H_k x_k + v_k$\n",
    "\n",
    "Здесь $H_k$ - матрица, которая преобразует состояние в наблюдение. На каждом кадре мы наблюдаем только прямоугольник. Скорость считается скрытым параметром. Т.е. вектор $z_k$ задаётся четвёркой \\[x, y, s, r\\], а умножение на матрицу $H_k$ должно из состояния извлеч все числа кроме скорости: \\[x, y, s, r, x', y', s'\\] -> \\[x, y, s, r\\].\n",
    "\n",
    "Наблюдения неточные, они имеют ошибку $v_k$ - вектор, распределеный нормально $\\mathcal{N}(0, R)$ с матрицей ковариации R.\n",
    "\n",
    "Подробнее на [Wikipedia](https://ru.wikipedia.org/wiki/%D0%A4%D0%B8%D0%BB%D1%8C%D1%82%D1%80_%D0%9A%D0%B0%D0%BB%D0%BC%D0%B0%D0%BD%D0%B0)"
   ]
  },
  {
   "cell_type": "markdown",
   "metadata": {},
   "source": [
    "ЗАДАНИЕ. Предлагается заполнить матрицы F, Q, H, R.\n",
    "\n",
    "Полезные функции:\n",
    "\n",
    "```python\n",
    "np.diag(a):\n",
    "    \"\"\"По вектору строит диагональную матрицу.\"\"\"\n",
    "    \n",
    "np.eye((x, y)):\n",
    "    \"\"\"Возвращает прямоугольную матрицу с 1 на диагонали. Остальные элементы равны 0.\"\"\"\n",
    "```"
   ]
  },
  {
   "cell_type": "code",
   "execution_count": 9,
   "metadata": {},
   "outputs": [
    {
     "name": "stdout",
     "output_type": "stream",
     "text": [
      "Результат: отлично!\n"
     ]
    }
   ],
   "source": [
    "def get_F():\n",
    "    \"\"\"Возвращает матрицу F.\n",
    "\n",
    "    F - матрица обновления состояния: State_k = F State_{k-1} + w_k.\n",
    "\n",
    "    На выходе может быть и список списков и массив Numpy.\n",
    "    \"\"\"\n",
    "    dt = 1\n",
    "    F = np.eye(7)\n",
    "    F[0, 4] = dt\n",
    "    F[1, 5] = dt\n",
    "    F[2, 6] = dt\n",
    "\n",
    "    return F\n",
    "\n",
    "\n",
    "assert check.check_get_F(get_F)"
   ]
  },
  {
   "cell_type": "code",
   "execution_count": 10,
   "metadata": {},
   "outputs": [
    {
     "name": "stdout",
     "output_type": "stream",
     "text": [
      "Результат: отлично!\n"
     ]
    }
   ],
   "source": [
    "def get_Q(\n",
    "    pos_std=1, scale_std=1, aspect_std=1, pos_velocity_std=0.1, scale_velocity_std=0.01\n",
    "):\n",
    "    \"\"\"Возвращает матрицу Q.\n",
    "\n",
    "    Q - ковариационная матрица ошибки модели w_k.\n",
    "\n",
    "    На выходе может быть и список списков и массив Numpy.\n",
    "\n",
    "    Вход:\n",
    "    1. pos_std, scale_std, aspert_std - стандартные отклонения ошибок (x, y), s, и r.\n",
    "    2. pos_velocity_std, scale_velocity_std - стандартные отклонения ошибок скоростей (x, y) и s.\n",
    "\n",
    "    Выход: матрица Q.\n",
    "    \"\"\"\n",
    "    Q = (\n",
    "        np.diag(\n",
    "            [\n",
    "                pos_std,\n",
    "                pos_std,\n",
    "                scale_std,\n",
    "                aspect_std,\n",
    "                pos_velocity_std,\n",
    "                pos_velocity_std,\n",
    "                scale_velocity_std,\n",
    "            ]\n",
    "        )\n",
    "        ** 2\n",
    "    )\n",
    "    return Q\n",
    "\n",
    "\n",
    "assert check.check_get_Q(get_Q)"
   ]
  },
  {
   "cell_type": "code",
   "execution_count": 11,
   "metadata": {},
   "outputs": [
    {
     "name": "stdout",
     "output_type": "stream",
     "text": [
      "Результат: отлично!\n"
     ]
    }
   ],
   "source": [
    "def get_H():\n",
    "    \"\"\"Возвращает матрицу H.\n",
    "\n",
    "    H - матрица отображения состояния в наблюдение: H [x, y, s, r, x', y', s'] -> [x, y, s, r].\n",
    "\n",
    "    На выходе может быть и список списков и массив Numpy.\n",
    "    \"\"\"\n",
    "    H = np.zeros(shape=(7, 4))\n",
    "    H[0, 0] = 1\n",
    "    H[1, 1] = 1\n",
    "    H[2, 2] = 1\n",
    "    H[3, 3] = 1\n",
    "\n",
    "    return H.T\n",
    "\n",
    "\n",
    "assert check.check_get_H(get_H)"
   ]
  },
  {
   "cell_type": "code",
   "execution_count": 12,
   "metadata": {},
   "outputs": [
    {
     "name": "stdout",
     "output_type": "stream",
     "text": [
      "Результат: отлично!\n"
     ]
    }
   ],
   "source": [
    "def get_R(pos_std=0.1, scale_std=3, aspect_std=3):\n",
    "    \"\"\"Возвращает матрицу R.\n",
    "\n",
    "    R - ковариационная матрица ошибки наблюдения v_k.\n",
    "\n",
    "    На выходе может быть и список списков и массив Numpy.\n",
    "    \"\"\"\n",
    "    return np.diag([pos_std, pos_std, scale_std, aspect_std]) ** 2\n",
    "\n",
    "\n",
    "assert check.check_get_R(get_R)"
   ]
  },
  {
   "cell_type": "markdown",
   "metadata": {},
   "source": [
    "Начальное состояние фильтра мы инициализируем первым наблюдаемым прямоугольником, и только потом начинаем прдесазывать следующие прямоугольники. Наблюдение содержит в себе шум и совпадает с истинным состоянием лишь приблизительно. Для работы фильтра нужно определить матрицу ковариаций начального состояния.\n",
    "\n",
    "ЗАДАНИЕ. Предлагается определить начальную ковариационную матрицу $P$ состояния системы. Она задаёт неопределённость состояния в начальный момент времени."
   ]
  },
  {
   "cell_type": "code",
   "execution_count": 13,
   "metadata": {},
   "outputs": [
    {
     "name": "stdout",
     "output_type": "stream",
     "text": [
      "Результат: отлично!\n"
     ]
    }
   ],
   "source": [
    "def get_P(\n",
    "    pos_std=3, scale_std=3, aspect_std=3, pos_velocity_std=100, scale_velocity_std=100\n",
    "):\n",
    "    \"\"\"Возвращает матрицу P.\n",
    "\n",
    "    P - ковариационная матрица начального состояния фильтра.\n",
    "\n",
    "    Вход:\n",
    "    1. pos_std, scale_std, aspert_std - стандартные отклонения ошибок (x, y), s, и r.\n",
    "    2. pos_velocity_std, scale_velocity_std - стандартные отклонения ошибок скоростей (x, y) и s.\n",
    "\n",
    "    Выход: матрица P.\n",
    "    \"\"\"\n",
    "    return (\n",
    "        np.diag(\n",
    "            [\n",
    "                pos_std,\n",
    "                pos_std,\n",
    "                scale_std,\n",
    "                aspect_std,\n",
    "                pos_velocity_std,\n",
    "                pos_velocity_std,\n",
    "                scale_velocity_std,\n",
    "            ]\n",
    "        )\n",
    "        ** 2\n",
    "    )\n",
    "\n",
    "\n",
    "assert check.check_get_P(get_P)"
   ]
  },
  {
   "cell_type": "markdown",
   "metadata": {},
   "source": [
    "### Применение фильтра\n",
    "\n",
    "Протестируем фильтр на примере последовательности лиц одного человека.\n",
    "\n",
    "В качестве реализации фильтра Калмана мы используем библиотеку filterpy. Нам потребуется класс KalmanFilter и следующие его методы:\n",
    "\n",
    "```python\n",
    "KalmanFilter.__init__(self, dim_x, dim_z):\n",
    "    \"\"\"Создать новый фильтр.\n",
    "    \n",
    "    dim_x - размер состояния\n",
    "    dim_z - размер наблюдения\n",
    "    \"\"\"\n",
    "    \n",
    "KalmanFilter.predict(self):\n",
    "    \"\"\"Предсказать следующее состояние. Новое состояние сохраняется в фильтре.\"\"\"\n",
    "    \n",
    "KalmanFilter.update(self, z):\n",
    "    \"\"\"Обновить состояние фильтра используя новое наблюдение z и сохранённое ранее предсказание.\"\"\"\n",
    "```\n",
    "\n",
    "Если f - фильтр, то получить текущее состояние можно так:\n",
    "```python\n",
    "f.x\n",
    "```\n",
    "\n",
    "Можно преобразовать состояние \\[x, y, s, r, x', y', s'\\] в наблюдение \\[x, y, s, r\\]:\n",
    "```python\n",
    "f.measurement_of_state(filter.x)\n",
    "```\n",
    "\n",
    "Параметры фильтра задаются через присваивание атрибутов\n",
    "```python\n",
    "f.F = ...\n",
    "f.Q = ...\n",
    "...\n",
    "```\n",
    "\n",
    "Применение фильтра состоит в поочерёдном вызове методов predict и update."
   ]
  },
  {
   "cell_type": "code",
   "execution_count": 14,
   "metadata": {},
   "outputs": [],
   "source": [
    "from filterpy.kalman import KalmanFilter\n",
    "\n",
    "\n",
    "def create_kalman_filter(initial_state=None):\n",
    "    f = KalmanFilter(dim_x=7, dim_z=4)\n",
    "\n",
    "    if initial_state is not None:\n",
    "        f.x = np.asarray(initial_state)\n",
    "\n",
    "    f.F = np.asarray(get_F())\n",
    "    f.Q = np.asarray(get_Q())\n",
    "    f.H = np.asarray(get_H())\n",
    "    f.R = np.asarray(get_R())\n",
    "    f.P = np.asarray(get_P())\n",
    "\n",
    "    return f"
   ]
  },
  {
   "cell_type": "code",
   "execution_count": 15,
   "metadata": {},
   "outputs": [
    {
     "name": "stdout",
     "output_type": "stream",
     "text": [
      "Число кадров в треке: 43\n",
      "Финальное состояние фильтра:\n",
      "[8.29836635e+02 6.78587038e+02 5.62906633e+01 8.46260687e-01\n",
      " 1.81654967e+01 1.36055704e+01 5.99395214e-01]\n"
     ]
    }
   ],
   "source": [
    "def predict(bboxes_xysr):\n",
    "    \"\"\"В каждый момент времени предсказать следующий прямоугольник используя все предыдущие.\n",
    "\n",
    "    Вход:\n",
    "    1. filter: Фильтр Калмана.\n",
    "    2. bboxes_xysr: Список прямоугольников одного человека.\n",
    "                    Часть элементов может быть None, если на кадре лицо не нашлось.\n",
    "\n",
    "    Выход:\n",
    "    1. Список предсказанных прямоугольников той же длины, что и bboxes_xysr.\n",
    "    2. Финальное состояние фильтра.\n",
    "    \"\"\"\n",
    "\n",
    "    # Инициализируем фильтр для нового прогона используя первый прямоугольник.\n",
    "    # Скорости изначально выставляем в 0:\n",
    "    assert bboxes_xysr[0] is not None\n",
    "    filter = create_kalman_filter(initial_state=list(bboxes_xysr[0]) + [0, 0, 0])\n",
    "\n",
    "    predictions = []\n",
    "    for bbox in bboxes_xysr:\n",
    "        # Шаг 1: предсказываем следующее состояние:\n",
    "        filter.predict()\n",
    "\n",
    "        # Сохраняем предсказанное значение.\n",
    "        predictions.append(filter.measurement_of_state(filter.x))\n",
    "\n",
    "        # Шаг 2. Скорректируем состояние, если на данном кадре есть лицо человека.\n",
    "        # Если лица нет, то следующий predict продолжит процесс без изменения скоростей:\n",
    "        if bbox is not None:\n",
    "            filter.update(bbox)\n",
    "    return predictions, filter.x\n",
    "\n",
    "\n",
    "# Загрузим пример цепочки прямоугольников в формате [l, t, w, h]:\n",
    "bboxes = seminar.load_track_detections(DETECTIONS_PATH, 6)\n",
    "print(\"Число кадров в треке:\", len(bboxes))\n",
    "\n",
    "# Конвертируем в формат [x, y, s, r] для фильтра:\n",
    "bboxes_xysr = [(ltwh2xysr(bbox) if bbox is not None else None) for bbox in bboxes]\n",
    "\n",
    "# В каждый момент времени предскажем следующий прямоугольник используя все предыдущие:\n",
    "predictions_xysr, final_state = predict(bboxes_xysr)\n",
    "\n",
    "print(\"Финальное состояние фильтра:\\n{}\".format(final_state))"
   ]
  },
  {
   "cell_type": "markdown",
   "metadata": {},
   "source": [
    "ВОПРОС. В модель заложено, что скорость не изменяется. Почему скорость в начальном состоянии 0, а в конечном не 0?"
   ]
  },
  {
   "cell_type": "markdown",
   "metadata": {},
   "source": [
    "ОТВЕТ: По ходу работы фильтра модель обновляет оценку скорости с учётом ошибки."
   ]
  },
  {
   "cell_type": "code",
   "execution_count": 16,
   "metadata": {},
   "outputs": [
    {
     "name": "stdout",
     "output_type": "stream",
     "text": [
      "Серые прямоугольники - реальные детекты лиц из видео\n",
      "Красные прямоугольники - предсказанные фильтром по истории наблюдений\n",
      "Насыщенность цвета отражает течение времени\n"
     ]
    },
    {
     "data": {
      "image/png": "[encoded data removed]",
      "text/plain": [
       "<Figure size 432x288 with 1 Axes>"
      ]
     },
     "metadata": {
      "needs_background": "light"
     },
     "output_type": "display_data"
    }
   ],
   "source": [
    "print(\"Серые прямоугольники - реальные детекты лиц из видео\")\n",
    "print(\"Красные прямоугольники - предсказанные фильтром по истории наблюдений\")\n",
    "print(\"Насыщенность цвета отражает течение времени\")\n",
    "\n",
    "# Для наглядности выводим каждый третий кадр:\n",
    "plt.imshow(\n",
    "    seminar.render_bboxes(bboxes_xysr[2::3], predictions_xysr[2::3], is_xysr=True)\n",
    ")\n",
    "plt.show()"
   ]
  },
  {
   "cell_type": "markdown",
   "metadata": {},
   "source": [
    "Обратите внимание на отдельно стоящий красный прямоугольник в центре. На этом кадре лицо не нашлось, наблюдения нет. Есть только предсказание, которое неплохо интерполирует между соседними кадрами."
   ]
  },
  {
   "cell_type": "markdown",
   "metadata": {},
   "source": [
    "### Другие примеры фильтрации (писать код не нужно)"
   ]
  },
  {
   "cell_type": "markdown",
   "metadata": {},
   "source": [
    "#### Синусоида"
   ]
  },
  {
   "cell_type": "code",
   "execution_count": 17,
   "metadata": {},
   "outputs": [
    {
     "name": "stdout",
     "output_type": "stream",
     "text": [
      "Серые прямоугольники — реальные детекты лиц из видео.\n",
      "Красные прямоугольники — предсказанные фильтром по истории наблюдений.\n",
      "Насыщенность цвета отражает течение времени.\n"
     ]
    },
    {
     "data": {
      "image/png": "[encoded data removed]",
      "text/plain": [
       "<Figure size 432x288 with 1 Axes>"
      ]
     },
     "metadata": {
      "needs_background": "light"
     },
     "output_type": "display_data"
    }
   ],
   "source": [
    "def generate_sin_boxes():\n",
    "    bboxes = []\n",
    "    for x in np.linspace(0, 14, 20):\n",
    "        bboxes.append([50 * x, 50 * np.sin(x), 20, 20])\n",
    "    return bboxes\n",
    "\n",
    "\n",
    "bboxes = generate_sin_boxes()\n",
    "bboxes_xysr = [(ltwh2xysr(bbox) if bbox is not None else None) for bbox in bboxes]\n",
    "predictions_xysr, _ = predict(bboxes_xysr)\n",
    "\n",
    "print(\"Серые прямоугольники — реальные детекты лиц из видео.\")\n",
    "print(\"Красные прямоугольники — предсказанные фильтром по истории наблюдений.\")\n",
    "print(\"Насыщенность цвета отражает течение времени.\")\n",
    "plt.imshow(seminar.render_bboxes(bboxes_xysr, predictions_xysr, is_xysr=True))\n",
    "plt.show()"
   ]
  },
  {
   "cell_type": "markdown",
   "metadata": {},
   "source": [
    "#### Масштаб"
   ]
  },
  {
   "cell_type": "code",
   "execution_count": 18,
   "metadata": {},
   "outputs": [
    {
     "name": "stdout",
     "output_type": "stream",
     "text": [
      "Серые прямоугольники — реальные детекты лиц из видео.\n",
      "Красные прямоугольники — предсказанные фильтром по истории наблюдений.\n",
      "Насыщенность цвета отражает течение времени.\n"
     ]
    },
    {
     "data": {
      "image/png": "[encoded data removed]",
      "text/plain": [
       "<Figure size 432x288 with 1 Axes>"
      ]
     },
     "metadata": {
      "needs_background": "light"
     },
     "output_type": "display_data"
    }
   ],
   "source": [
    "def generate_scale_boxes():\n",
    "    bboxes = []\n",
    "    for x in np.linspace(0, 7, 10):\n",
    "        s = 3 * (x + 6)\n",
    "        bboxes.append([50 * x - s / 2, -s / 2, s, s])\n",
    "    return bboxes\n",
    "\n",
    "\n",
    "bboxes = generate_scale_boxes()\n",
    "bboxes_xysr = [(ltwh2xysr(bbox) if bbox is not None else None) for bbox in bboxes]\n",
    "predictions_xysr, _ = predict(bboxes_xysr)\n",
    "\n",
    "print(\"Серые прямоугольники — реальные детекты лиц из видео.\")\n",
    "print(\"Красные прямоугольники — предсказанные фильтром по истории наблюдений.\")\n",
    "print(\"Насыщенность цвета отражает течение времени.\")\n",
    "plt.imshow(seminar.render_bboxes(bboxes_xysr, predictions_xysr, is_xysr=True))\n",
    "plt.show()"
   ]
  },
  {
   "cell_type": "markdown",
   "metadata": {},
   "source": [
    "Фильтр хорошо оценивает линейный рост размера прямоугольника: предсказанные красные прямоугольники почти совпадают с наблюдаемыми серыми."
   ]
  },
  {
   "cell_type": "markdown",
   "metadata": {},
   "source": [
    "## Часть 2. Simple online and realtime tracking (SORT)\n",
    "\n",
    "В предыдущей части семинара мы настроили фильтр Калмана. В этой части реализуем простой алгоритм трекинга на его основе."
   ]
  },
  {
   "cell_type": "markdown",
   "metadata": {},
   "source": [
    "### Simple online and realtime tracking (SORT)\n",
    "\n",
    "Мы хотим сгруппировать прямоугольники с разных кадров для каждого человека.\n",
    "\n",
    "Выполнять группировку мы будем последовательно: кадр за кадром. Связывать прямоугольники на соседних кадрах будем в два шага:\n",
    "\n",
    "1. предскажем куда может переместиться прямоугольник за один кадр используя фильтр Калмана;\n",
    "2. из обнаруженных на следующем кадре прямоугольников найдём ближайший к предсказанному.\n",
    "\n",
    "На изображении ниже X и Y это координаты пикселя, а T - время. Разными цветами помечены прямоугольники разных лиц.\n",
    "\n",
    "<img align=\"left\" src=\"resources/matching.jpg\" width=\"60%\" height=\"60%\">\n",
    "<div style=\"clear:both;\"></div>\n",
    "\n",
    "Близость двух прямоугольников будем мерить используя Intersection Over Union (IoU):\n",
    "\n",
    "<img align=\"left\" src=\"resources/iou.jpg\" width=\"35%\" height=\"35%\">\n",
    "<div style=\"clear:both;\"></div>\n",
    "\n",
    "Используя IoU мы сможем померить близость между каждой парой предскзанных и наблюдаемых прямоугольников. Тогда мы сможем выбрать наиболее сильные связи решив задачу о максимальном паросочетании в двудольном графе:\n",
    "\n",
    "<img align=\"left\" src=\"resources/bipartite.jpg\" width=\"70%\" height=\"70%\">\n",
    "<div style=\"clear:both;\"></div>"
   ]
  },
  {
   "cell_type": "markdown",
   "metadata": {},
   "source": [
    "ЗАДАНИЕ. Реализуйте функцию, которая вычисляет Intersection Over Union (IoU) между всеми предсказаниями и обнаруженными прямоугольниками.\n",
    "\n",
    "Поскольку время на задание ограничено, предлагаем использовать наиболее простые подходы. Быстродействие не учитывается."
   ]
  },
  {
   "cell_type": "code",
   "execution_count": 19,
   "metadata": {},
   "outputs": [],
   "source": [
    "def bb_intersection_over_union(boxA, boxB):\n",
    "    # determine the (x, y)-coordinates of the intersection rectangle\n",
    "    xA = max(boxA[0], boxB[0])\n",
    "    yA = max(boxA[1], boxB[1])\n",
    "    xB = min(boxA[0] + boxA[2], boxB[0] + boxB[2])\n",
    "    yB = min(boxA[1] + boxA[3], boxB[1] + boxB[3])\n",
    "    # compute the area of intersection rectangle\n",
    "    interArea = max(0, xB - xA) * max(0, yB - yA)\n",
    "    # compute the area of both the prediction and ground-truth\n",
    "    # rectangles\n",
    "    boxAArea = boxA[2] * boxA[3]\n",
    "    boxBArea = boxB[2] * boxB[3]\n",
    "    # compute the intersection over union by taking the intersection\n",
    "    # area and dividing it by the sum of prediction + ground-truth\n",
    "    # areas - the interesection area\n",
    "    iou = interArea / float(boxAArea + boxBArea - interArea)\n",
    "    # return the intersection over union value\n",
    "    return iou"
   ]
  },
  {
   "cell_type": "code",
   "execution_count": 20,
   "metadata": {},
   "outputs": [
    {
     "name": "stdout",
     "output_type": "stream",
     "text": [
      "Результат: отлично!\n"
     ]
    }
   ],
   "source": [
    "def batch_iou(predictions, detections):\n",
    "    \"\"\"Вычислить Intersection over Union между каждым предсказанием и детектом.\n",
    "\n",
    "    Все прямоугольники в формате [left, top, width, height].\n",
    "\n",
    "    Вход:\n",
    "    1. predictions: Предсказания фильтра Калмана, матрица размера (N, 4).\n",
    "    2. detections: Обнаруженные детектором прямоугольники, матрица размера (K, 4).\n",
    "\n",
    "    Выход: Матрица размера (N, K) с попарными IoU.\n",
    "    \"\"\"\n",
    "    result = np.zeros(shape=(len(predictions), len(detections)))\n",
    "    for i, prediction in enumerate(predictions):\n",
    "        for j, detection in enumerate(detections):\n",
    "            result[i, j] = bb_intersection_over_union(prediction, detection)\n",
    "    return result\n",
    "\n",
    "\n",
    "assert check.check_batch_iou(batch_iou)"
   ]
  },
  {
   "cell_type": "markdown",
   "metadata": {},
   "source": [
    "Теперь приступим к поиску соответствий между предсказаниями и детектами.\n",
    "\n",
    "В оригинальной реализации SORT используется Венгерский алгоритм. Предлагается реализовать более простой вариант: жадный алгоритм. Жадный алгоритм на каждом шаге добавляет соответствие с максимальным IoU, затем удаляет связанные прямоугольники из рассмотрения.\n",
    "\n",
    "ЗАДАНИЕ. Реализовать жадный алгоритм поиска соответствий. Жадность алгоритма не проверяется. Любой разумный алгоритм должен пройти тесты.\n",
    "\n",
    "Полезные функции:\n",
    "```python\n",
    "\n",
    "np.argmax(A, axis=None):\n",
    "    \"\"\"Возвращает индексы максимальных элементов в направлении оси axis.\"\"\"\n",
    "    \n",
    "np.take_along_axis(A, indices, axis=None):\n",
    "    \"\"\"Позволяет выбрать элементы матрицы по результату np.argmax.\"\"\"\n",
    "```"
   ]
  },
  {
   "cell_type": "code",
   "execution_count": 21,
   "metadata": {},
   "outputs": [
    {
     "name": "stdout",
     "output_type": "stream",
     "text": [
      "Результат: отлично!\n"
     ]
    }
   ],
   "source": [
    "def match_bboxes(iou):\n",
    "    \"\"\"Найти соответствия между предсказаниями и детектами.\n",
    "\n",
    "    ВНИМАНИЕ: Связывать прямоугольники с нулевым IoU не нужно.\n",
    "\n",
    "    В обозначениях ниже N - число предсказаний, K - число детектов.\n",
    "\n",
    "    Вход: Матрица попарных значений IoU с размером (N, K).\n",
    "\n",
    "    Выход: Список длины N, в котором для каждого предсказания указан номер соответствующего детекта.\n",
    "           Если какое-то предсказание оказалось несвязанным, в списке нужно указать None.\n",
    "    \"\"\"\n",
    "    iou = iou.copy()\n",
    "    ninf = -1\n",
    "    matches = [None] * len(iou)\n",
    "    if iou.size == 0:\n",
    "        return matches\n",
    "    while True:\n",
    "        candidates = np.argmax(iou, axis=1)\n",
    "        values = np.take_along_axis(iou, candidates[:, None], 1)[:, 0]\n",
    "        best_candidate = np.argmax(values)\n",
    "        best_value = values[best_candidate]\n",
    "        if best_value <= 0:\n",
    "            break\n",
    "        matches[best_candidate] = candidates[best_candidate]\n",
    "        iou[best_candidate] = ninf\n",
    "        iou[:, candidates[best_candidate]] = ninf\n",
    "    return matches\n",
    "\n",
    "\n",
    "assert check.check_match_bboxes(match_bboxes)"
   ]
  },
  {
   "cell_type": "markdown",
   "metadata": {},
   "source": [
    "Функция ниже релизует простой вариант алгоритма SORT.\n",
    "\n",
    "1. Для каждого прямоугольника на первом кадре создается новый трек.\n",
    "\n",
    "2. Для последующих кадров выполняется поиск соответствий с использоанием IoU.\n",
    "\n",
    "3. Если какой-то трек не имеет соответствий более 2-х кадров, он заканчивается.\n",
    "\n",
    "4. Если какой-то прямоугольник не попал в трек, для него создается новый трек."
   ]
  },
  {
   "cell_type": "code",
   "execution_count": 22,
   "metadata": {},
   "outputs": [
    {
     "name": "stdout",
     "output_type": "stream",
     "text": [
      "Кадр 0\n",
      "Продолжено треков: 0\n",
      "Трек 0 создан\n",
      "Кадр 1\n",
      "Продолжено треков: 0\n",
      "Трек 1 создан\n",
      "Трек 2 создан\n",
      "Кадр 2\n",
      "Продолжено треков: 1\n",
      "Трек 3 создан\n",
      "Кадр 3\n",
      "Трек 0 завершён\n",
      "Продолжено треков: 2\n",
      "Кадр 4\n",
      "Трек 1 завершён\n",
      "Продолжено треков: 1\n",
      "Кадр 5\n",
      "Продолжено треков: 1\n",
      "Трек 4 создан\n",
      "Кадр 6\n",
      "Трек 3 завершён\n",
      "Продолжено треков: 1\n",
      "Кадр 7\n",
      "Продолжено треков: 1\n",
      "Трек 5 создан\n",
      "Кадр 8\n",
      "Трек 4 завершён\n",
      "Продолжено треков: 2\n",
      "Кадр 9\n",
      "Продолжено треков: 2\n",
      "Кадр 10\n",
      "Продолжено треков: 2\n",
      "Кадр 11\n",
      "Продолжено треков: 2\n",
      "Трек 6 создан\n",
      "Кадр 12\n",
      "Продолжено треков: 3\n",
      "Кадр 13\n",
      "Продолжено треков: 3\n",
      "Кадр 14\n",
      "Продолжено треков: 3\n",
      "Кадр 15\n",
      "Продолжено треков: 3\n",
      "Кадр 16\n",
      "Продолжено треков: 3\n",
      "Трек 7 создан\n",
      "Кадр 17\n",
      "Продолжено треков: 2\n",
      "Кадр 18\n",
      "Продолжено треков: 2\n",
      "Кадр 19\n",
      "Трек 6 завершён\n",
      "Трек 7 завершён\n",
      "Продолжено треков: 2\n",
      "Кадр 20\n",
      "Продолжено треков: 2\n",
      "Кадр 21\n",
      "Продолжено треков: 2\n",
      "Кадр 22\n",
      "Продолжено треков: 2\n",
      "Кадр 23\n",
      "Продолжено треков: 2\n",
      "Кадр 24\n",
      "Продолжено треков: 2\n",
      "Кадр 25\n",
      "Продолжено треков: 2\n",
      "Трек 8 создан\n",
      "Кадр 26\n",
      "Продолжено треков: 2\n",
      "Кадр 27\n",
      "Продолжено треков: 2\n",
      "Кадр 28\n",
      "Трек 8 завершён\n",
      "Продолжено треков: 2\n",
      "Трек 9 создан\n",
      "Кадр 29\n",
      "Продолжено треков: 2\n",
      "Трек 10 создан\n",
      "Трек 11 создан\n",
      "Трек 12 создан\n",
      "Кадр 30\n",
      "Продолжено треков: 3\n",
      "Кадр 31\n",
      "Трек 9 завершён\n",
      "Продолжено треков: 3\n",
      "Трек 13 создан\n",
      "Трек 14 создан\n",
      "Кадр 32\n",
      "Трек 10 завершён\n",
      "Трек 12 завершён\n",
      "Продолжено треков: 4\n",
      "Трек 15 создан\n",
      "Кадр 33\n",
      "Продолжено треков: 5\n",
      "Кадр 34\n",
      "Трек 13 завершён\n",
      "Продолжено треков: 4\n",
      "Трек 16 создан\n",
      "Трек 17 создан\n",
      "Кадр 35\n",
      "Продолжено треков: 3\n",
      "Трек 18 создан\n",
      "Трек 19 создан\n",
      "Трек 20 создан\n",
      "Трек 21 создан\n",
      "Кадр 36\n",
      "Трек 15 завершён\n",
      "Продолжено треков: 4\n",
      "Трек 22 создан\n",
      "Трек 23 создан\n",
      "Трек 24 создан\n",
      "Кадр 37\n",
      "Трек 11 завершён\n",
      "Трек 16 завершён\n",
      "Трек 17 завершён\n",
      "Продолжено треков: 2\n",
      "Трек 25 создан\n",
      "Трек 26 создан\n",
      "Трек 27 создан\n",
      "Кадр 38\n",
      "Трек 19 завершён\n",
      "Трек 20 завершён\n",
      "Трек 21 завершён\n",
      "Продолжено треков: 2\n",
      "Трек 28 создан\n",
      "Трек 29 создан\n",
      "Трек 30 создан\n",
      "Трек 31 создан\n",
      "Трек 32 создан\n",
      "Кадр 39\n",
      "Трек 5 завершён\n",
      "Трек 18 завершён\n",
      "Трек 22 завершён\n",
      "Трек 23 завершён\n",
      "Трек 24 завершён\n",
      "Продолжено треков: 7\n",
      "Кадр 40\n",
      "Трек 25 завершён\n",
      "Трек 26 завершён\n",
      "Трек 27 завершён\n",
      "Продолжено треков: 3\n",
      "Трек 33 создан\n",
      "Трек 34 создан\n",
      "Трек 35 создан\n",
      "Кадр 41\n",
      "Продолжено треков: 3\n",
      "Трек 36 создан\n",
      "Трек 37 создан\n",
      "Трек 38 создан\n",
      "Трек 39 создан\n",
      "Кадр 42\n",
      "Трек 29 завершён\n",
      "Трек 30 завершён\n",
      "Трек 31 завершён\n",
      "Трек 32 завершён\n",
      "Продолжено треков: 3\n",
      "Трек 40 создан\n",
      "Трек 41 создан\n",
      "Трек 42 создан\n",
      "Кадр 43\n",
      "Трек 14 завершён\n",
      "Трек 33 завершён\n",
      "Трек 34 завершён\n",
      "Продолжено треков: 4\n",
      "Трек 43 создан\n",
      "Трек 44 создан\n",
      "Кадр 44\n",
      "Трек 36 завершён\n",
      "Трек 37 завершён\n",
      "Трек 38 завершён\n",
      "Трек 39 завершён\n",
      "Продолжено треков: 3\n",
      "Трек 45 создан\n",
      "Трек 46 создан\n",
      "Кадр 45\n",
      "Трек 40 завершён\n",
      "Трек 41 завершён\n",
      "Продолжено треков: 5\n",
      "Кадр 46\n",
      "Трек 42 завершён\n",
      "Трек 43 завершён\n",
      "Трек 44 завершён\n",
      "Продолжено треков: 4\n",
      "Кадр 47\n",
      "Продолжено треков: 3\n",
      "Трек 47 создан\n",
      "Кадр 48\n",
      "Трек 45 завершён\n",
      "Продолжено треков: 3\n",
      "Кадр 49\n",
      "Трек 46 завершён\n",
      "Продолжено треков: 3\n",
      "Кадр 50\n",
      "Трек 28 завершён\n",
      "Продолжено треков: 3\n",
      "Кадр 51\n",
      "Продолжено треков: 3\n",
      "Кадр 52\n",
      "Продолжено треков: 3\n",
      "Кадр 53\n",
      "Продолжено треков: 2\n",
      "Кадр 54\n",
      "Продолжено треков: 2\n",
      "Трек 48 создан\n",
      "Кадр 55\n",
      "Трек 47 завершён\n",
      "Продолжено треков: 3\n",
      "Кадр 56\n",
      "Продолжено треков: 3\n",
      "Кадр 57\n",
      "Продолжено треков: 3\n",
      "Кадр 58\n",
      "Продолжено треков: 3\n",
      "Кадр 59\n",
      "Продолжено треков: 3\n",
      "Кадр 60\n",
      "Продолжено треков: 2\n",
      "Кадр 61\n",
      "Продолжено треков: 2\n",
      "Трек 49 создан\n",
      "Кадр 62\n",
      "Трек 2 завершён\n",
      "Продолжено треков: 2\n",
      "Трек 50 создан\n",
      "Кадр 63\n",
      "Продолжено треков: 3\n",
      "Кадр 64\n",
      "Трек 49 завершён\n",
      "Продолжено треков: 3\n",
      "Трек 51 создан\n",
      "Кадр 65\n",
      "Продолжено треков: 3\n",
      "Трек 52 создан\n",
      "Кадр 66\n",
      "Продолжено треков: 3\n",
      "Трек 53 создан\n",
      "Кадр 67\n",
      "Трек 51 завершён\n",
      "Продолжено треков: 3\n",
      "Трек 54 создан\n",
      "Кадр 68\n",
      "Трек 52 завершён\n",
      "Продолжено треков: 3\n",
      "Трек 55 создан\n",
      "Кадр 69\n",
      "Трек 53 завершён\n",
      "Продолжено треков: 4\n",
      "Кадр 70\n",
      "Трек 54 завершён\n",
      "Продолжено треков: 2\n",
      "Трек 56 создан\n",
      "Кадр 71\n",
      "Продолжено треков: 2\n",
      "Трек 57 создан\n",
      "Кадр 72\n",
      "Трек 50 завершён\n",
      "Трек 55 завершён\n",
      "Продолжено треков: 2\n",
      "Трек 58 создан\n",
      "Кадр 73\n",
      "Трек 56 завершён\n",
      "Продолжено треков: 3\n",
      "Кадр 74\n",
      "Трек 57 завершён\n",
      "Продолжено треков: 3\n",
      "Кадр 75\n",
      "Продолжено треков: 3\n",
      "Кадр 76\n",
      "Продолжено треков: 3\n",
      "Кадр 77\n",
      "Продолжено треков: 3\n",
      "Кадр 78\n",
      "Продолжено треков: 2\n",
      "Кадр 79\n",
      "Продолжено треков: 2\n",
      "Кадр 80\n",
      "Трек 48 завершён\n",
      "Продолжено треков: 2\n",
      "Трек 59 создан\n",
      "Кадр 81\n",
      "Продолжено треков: 2\n",
      "Кадр 82\n",
      "Продолжено треков: 2\n",
      "Трек 60 создан\n",
      "Кадр 83\n",
      "Трек 59 завершён\n",
      "Продолжено треков: 2\n",
      "Кадр 84\n",
      "Продолжено треков: 2\n",
      "Кадр 85\n",
      "Трек 60 завершён\n",
      "Продолжено треков: 2\n",
      "Трек 61 создан\n",
      "Кадр 86\n",
      "Продолжено треков: 2\n",
      "Кадр 87\n",
      "Продолжено треков: 2\n",
      "Кадр 88\n",
      "Трек 61 завершён\n",
      "Продолжено треков: 2\n",
      "Трек 62 создан\n",
      "Кадр 89\n",
      "Продолжено треков: 2\n",
      "Трек 63 создан\n",
      "Кадр 90\n",
      "Продолжено треков: 2\n",
      "Кадр 91\n",
      "Трек 62 завершён\n",
      "Продолжено треков: 2\n",
      "Кадр 92\n",
      "Трек 35 завершён\n",
      "Продолжено треков: 2\n",
      "Трек 64 создан\n",
      "Трек 65 создан\n",
      "Кадр 93\n",
      "Продолжено треков: 4\n",
      "Кадр 94\n",
      "Продолжено треков: 4\n",
      "Кадр 95\n",
      "Продолжено треков: 3\n",
      "Кадр 96\n",
      "Продолжено треков: 3\n",
      "Трек 66 создан\n",
      "Кадр 97\n",
      "Трек 64 завершён\n",
      "Продолжено треков: 2\n",
      "Трек 67 создан\n",
      "Трек 68 создан\n",
      "Кадр 98\n",
      "Продолжено треков: 2\n",
      "Трек 69 создан\n",
      "Трек 70 создан\n",
      "Трек 71 создан\n",
      "Кадр 99\n",
      "Трек 65 завершён\n",
      "Трек 66 завершён\n",
      "Продолжено треков: 5\n",
      "Кадр 100\n",
      "Трек 67 завершён\n",
      "Трек 68 завершён\n",
      "Продолжено треков: 2\n",
      "Трек 72 создан\n",
      "Трек 73 создан\n",
      "Кадр 101\n",
      "Продолжено треков: 2\n",
      "Трек 74 создан\n",
      "Кадр 102\n",
      "Трек 69 завершён\n",
      "Трек 70 завершён\n",
      "Трек 71 завершён\n",
      "Продолжено треков: 2\n",
      "Кадр 103\n",
      "Трек 63 завершён\n",
      "Трек 73 завершён\n",
      "Продолжено треков: 1\n",
      "Кадр 104\n",
      "Трек 74 завершён\n",
      "Продолжено треков: 1\n",
      "Кадр 105\n",
      "Трек 72 завершён\n",
      "Продолжено треков: 1\n",
      "Кадр 106\n",
      "Продолжено треков: 1\n",
      "Трек 75 создан\n",
      "Трек 76 создан\n",
      "Трек 77 создан\n",
      "Трек 78 создан\n",
      "Кадр 107\n",
      "Продолжено треков: 4\n",
      "Трек 79 создан\n",
      "Трек 80 создан\n",
      "Кадр 108\n",
      "Продолжено треков: 3\n",
      "Трек 81 создан\n",
      "Кадр 109\n",
      "Трек 75 завершён\n",
      "Продолжено треков: 3\n",
      "Трек 82 создан\n",
      "Кадр 110\n",
      "Трек 76 завершён\n",
      "Трек 78 завершён\n",
      "Трек 79 завершён\n",
      "Продолжено треков: 3\n",
      "Трек 83 создан\n",
      "Трек 84 создан\n",
      "Кадр 111\n",
      "Трек 80 завершён\n",
      "Продолжено треков: 5\n",
      "Кадр 112\n",
      "Трек 81 завершён\n",
      "Продолжено треков: 2\n",
      "Трек 85 создан\n",
      "Трек 86 создан\n",
      "Кадр 113\n",
      "Продолжено треков: 2\n",
      "Трек 87 создан\n",
      "Кадр 114\n",
      "Трек 77 завершён\n",
      "Трек 82 завершён\n",
      "Трек 84 завершён\n",
      "Продолжено треков: 2\n",
      "Трек 88 создан\n",
      "Трек 89 создан\n",
      "Кадр 115\n",
      "Трек 83 завершён\n",
      "Трек 86 завершён\n",
      "Продолжено треков: 2\n",
      "Трек 90 создан\n",
      "Трек 91 создан\n",
      "Кадр 116\n",
      "Трек 85 завершён\n",
      "Продолжено треков: 2\n",
      "Трек 92 создан\n",
      "Трек 93 создан\n",
      "Кадр 117\n",
      "Трек 58 завершён\n",
      "Трек 87 завершён\n",
      "Продолжено треков: 4\n"
     ]
    }
   ],
   "source": [
    "from collections import defaultdict\n",
    "\n",
    "from seminar import xysr2ltwh, ltwh2xysr, create_kalman_filter\n",
    "\n",
    "\n",
    "def track_sort(detections):\n",
    "    \"\"\"Сгруппировать прямоугольники с разных кадров используя фильтр Калмана и IoU.\n",
    "\n",
    "    Вход: Список ответов детектора для каждого кадра. Каждый ответ детектора это список\n",
    "          прямоугольников в формате LTWH.\n",
    "\n",
    "    Выход: Список меток прямоугольников для каждого кадра. Метки для каждого кадра это список\n",
    "           целочисленных меток всех прямоугольников кадра.\n",
    "    \"\"\"\n",
    "    num_tracks = 0\n",
    "    track_frames = defaultdict(list)\n",
    "    track_detection_ids = defaultdict(list)\n",
    "    track_filters = {}\n",
    "    for frame, frame_detections in enumerate(detections):\n",
    "        print(\"Кадр\", frame)\n",
    "\n",
    "        # Закончить старые треки:\n",
    "        for track in list(track_filters):\n",
    "            last_track_frame = track_frames[track][-1]\n",
    "            if last_track_frame < frame - 2:\n",
    "                del track_filters[track]\n",
    "                print(\"Трек {} завершён\".format(track))\n",
    "\n",
    "        # Предсказать следующие прямоугольники для треков:\n",
    "        for filter in track_filters.values():\n",
    "            filter.predict()\n",
    "        active_tracks = list(track_filters)\n",
    "        predictions = [xysr2ltwh(track_filters[i].x[:4]) for i in active_tracks]\n",
    "\n",
    "        # Связать предсказания и детекты:\n",
    "        iou = batch_iou(predictions, frame_detections)\n",
    "        matches = match_bboxes(iou)\n",
    "        print(\n",
    "            \"Продолжено треков: {}\".format(len([m for m in matches if m is not None]))\n",
    "        )\n",
    "\n",
    "        # Обновить треки:\n",
    "        for track_id, match in enumerate(matches):\n",
    "            if match is None:\n",
    "                continue\n",
    "            track = active_tracks[track_id]\n",
    "            track_frames[track].append(frame)\n",
    "            track_detection_ids[track].append(match)\n",
    "            track_filters[track].update(ltwh2xysr(frame_detections[match]))\n",
    "\n",
    "        # Добавить новые треки:\n",
    "        all_detections = set(range(len(frame_detections)))\n",
    "        matched_detections = {m for m in matches if m is not None}\n",
    "        unmatched_detections = all_detections - matched_detections\n",
    "        for i in unmatched_detections:\n",
    "            track_frames[num_tracks].append(frame)\n",
    "            track_detection_ids[num_tracks].append(i)\n",
    "\n",
    "            bbox = frame_detections[i]\n",
    "            initial_state = list(ltwh2xysr(bbox)) + [0, 0, 0]\n",
    "            track_filters[num_tracks] = create_kalman_filter(initial_state)\n",
    "\n",
    "            print(\"Трек {} создан\".format(num_tracks))\n",
    "            num_tracks += 1\n",
    "\n",
    "    # Сформировать ответ:\n",
    "    labels = [[None] * len(frame_detections) for frame_detections in detections]\n",
    "    for track in track_frames.keys():\n",
    "        for frame, detection_id in zip(track_frames[track], track_detection_ids[track]):\n",
    "            labels[frame][detection_id] = track\n",
    "\n",
    "    # Проверим, что заполнили все метки:\n",
    "    for frame_labels in labels:\n",
    "        for label in frame_labels:\n",
    "            assert label is not None\n",
    "\n",
    "    return labels\n",
    "\n",
    "\n",
    "labels = track_sort(detections)"
   ]
  },
  {
   "cell_type": "code",
   "execution_count": 23,
   "metadata": {},
   "outputs": [
    {
     "name": "stdout",
     "output_type": "stream",
     "text": [
      "Доля несоответствий с разметкой: 0.17\n"
     ]
    }
   ],
   "source": [
    "error = seminar.eval_mismatch_rate(labels, markup)\n",
    "print(\"Доля несоответствий с разметкой: {:.2f}\".format(error))"
   ]
  },
  {
   "cell_type": "markdown",
   "metadata": {},
   "source": [
    "### Визуализация"
   ]
  },
  {
   "cell_type": "code",
   "execution_count": 24,
   "metadata": {},
   "outputs": [
    {
     "name": "stderr",
     "output_type": "stream",
     "text": [
      " 99%|█████████▉| 118/119 [00:01<00:00, 96.75it/s] \n"
     ]
    }
   ],
   "source": [
    "seminar.render_video_bboxes(VIDEO_PATH, OUTPUT_PATH, detections, labels)"
   ]
  },
  {
   "cell_type": "markdown",
   "metadata": {},
   "source": [
    "На видео прямоугольники разных треков помечены разным цветом.\n",
    "\n",
    "Мигание цвета на каких-то лицах - это ошибки трекинга. Более точная настройка параметров (STD ошибок в фильтре Калмана) может решить проблему. Часть проблем нельзя решить методом SORT на видео с низким FPS."
   ]
  },
  {
   "cell_type": "code",
   "execution_count": 25,
   "metadata": {},
   "outputs": [
    {
     "name": "stdout",
     "output_type": "stream",
     "text": [
      "data/output-demo.mp4\n"
     ]
    },
    {
     "data": {
      "text/html": [
       "<video src=\"data/output-demo.mp4\" controls  >\n",
       "      Your browser does not support the <code>video</code> element.\n",
       "    </video>"
      ],
      "text/plain": [
       "<IPython.core.display.Video object>"
      ]
     },
     "execution_count": 25,
     "metadata": {},
     "output_type": "execute_result"
    }
   ],
   "source": [
    "print(OUTPUT_PATH)\n",
    "Video(OUTPUT_PATH)"
   ]
  },
  {
   "cell_type": "markdown",
   "metadata": {},
   "source": [
    "Если видео не отображается, откройте его самостоятельно через плеер.\n",
    "\n",
    "ВОПРОС. В каких случаях трекинг работает хорошо, а в каких плохо?"
   ]
  },
  {
   "cell_type": "markdown",
   "metadata": {},
   "source": [
    "## Часть 3. Deep SORT\n",
    "\n",
    "В предыдущей части семинара мы реализовали простой трекер алгоритмом SORT. В этой части дополним его моделью распознавания лиц."
   ]
  },
  {
   "cell_type": "code",
   "execution_count": 26,
   "metadata": {},
   "outputs": [],
   "source": [
    "# Видео, куда сохранится результат трекинга:\n",
    "OUTPUT_PATH = \"data/output-demo-deep.mp4\""
   ]
  },
  {
   "cell_type": "markdown",
   "metadata": {},
   "source": [
    "### Модель сравнения лиц\n",
    "\n",
    "<img align=\"left\" src=\"resources/embedding.jpg\" width=\"80%\" height=\"80%\">\n",
    "<div style=\"clear:both;\"></div>\n",
    "\n",
    "Мы применили модель извлечения признаков к обнаруженным лицам. Для кажого лица мы построили признаковое описание из 128 чисел. Результаты работы модели загружены в список embeddings. Для каждого кадра в нем хранится список эмбеддингов для обнаруженных лиц."
   ]
  },
  {
   "cell_type": "code",
   "execution_count": 27,
   "metadata": {},
   "outputs": [
    {
     "name": "stdout",
     "output_type": "stream",
     "text": [
      "Лица на кадре 1: [[163, 397, 54, 70], [378, 93, 33, 46]]\n",
      "Эмбеддинги лиц на кадре 1: массив с размером (2, 128)\n"
     ]
    }
   ],
   "source": [
    "print(\"Лица на кадре 1:\", detections[1])\n",
    "print(\"Эмбеддинги лиц на кадре 1: массив с размером\", np.asarray(embeddings[1]).shape)"
   ]
  },
  {
   "cell_type": "markdown",
   "metadata": {},
   "source": [
    "Сравним лица с разных кадров. В качестве меры удаленности двух эмбеддингов будем использовать косинусное расстояние:\n",
    "\n",
    "<img align=\"left\" src=\"resources/cos.jpg\" width=\"50%\" height=\"50%\">\n",
    "<div style=\"clear:both;\"></div>\n",
    "\n",
    "ЗАДАНИЕ. Реализуйте вычисление косинусного расстояния между двумя наборами эмбеддингов (все со всеми).\n",
    "\n",
    "Полезные функции:\n",
    "\n",
    "```python\n",
    "np.linalg.norm(A, axis=1, keepdims=True)  # Возвращает матрицу (N, 1) с нормами строк матрицы A.\n",
    "\n",
    "np.sqrt(A)  # Поэлементно извлекает корень.\n",
    "```"
   ]
  },
  {
   "cell_type": "code",
   "execution_count": 28,
   "metadata": {},
   "outputs": [],
   "source": [
    "def cosine_distance(emb1, emb2):\n",
    "    return np.dot(emb1 / np.linalg.norm(emb1), emb2 / np.linalg.norm(emb2))"
   ]
  },
  {
   "cell_type": "code",
   "execution_count": 29,
   "metadata": {},
   "outputs": [
    {
     "name": "stdout",
     "output_type": "stream",
     "text": [
      "Результат: отлично!\n"
     ]
    }
   ],
   "source": [
    "def batch_cosine_distance(embeddings1, embeddings2):\n",
    "    \"\"\"Посчитать косинусное расстояние для двух пар эмбедингов.\n",
    "\n",
    "    Вход:\n",
    "        embeddings1: Первый набор эмбеддингов, матрица размера (N, 128).\n",
    "        embeddings2: Второй набор эмбеддингов, матрица размера (K, 128).\n",
    "\n",
    "    Выход: Матрица размера (N, K) с косинусными расстояниями между векторами.\n",
    "    \"\"\"\n",
    "    result = np.zeros((len(embeddings1), len(embeddings2)))\n",
    "    for i, x in enumerate(embeddings1):\n",
    "        for j, y in enumerate(embeddings2):\n",
    "            result[i, j] = cosine_distance(x, y)\n",
    "    return result\n",
    "\n",
    "\n",
    "assert check.check_batch_cosine_distance(batch_cosine_distance)"
   ]
  },
  {
   "cell_type": "markdown",
   "metadata": {},
   "source": [
    "Метод DeepSORT имеет несколько отличий от SORT. Мы реализуем только учёт близости эмбеддингов лиц.\n",
    "\n",
    "Пусть имеется два прямоугольника $B_1 = [l_1, t_1, w_1, h_1]$ и $B_2 = [l_2, t_2, w_2, h_2]$. Эмбеддинг первого лица - $E_1$, второго - $E_2$.\n",
    "\n",
    "Близость двух лиц будет определяться взвешенной суммой Intersection over Union (IoU) и косинусного расстояния:\n",
    "\n",
    "$Similarity = \\alpha IoU(B_1, B_2) + (1 - \\alpha) \\cos(E_1, E_2)$"
   ]
  },
  {
   "cell_type": "markdown",
   "metadata": {},
   "source": [
    "ЗАДАНИЕ. Реализуйте функцию, которая вычисляет близость двух лиц.\n",
    "\n",
    "Используйте функции:\n",
    "```python\n",
    "\n",
    "batch_cosine_distance(embeddings1, embeddings2):\n",
    "    \"\"\"(N, 128), (K, 128) -> (N, K).\"\"\"\n",
    "\n",
    "batch_iou(bboxes1, bboxes2):\n",
    "    \"\"\"(N, 4), (K, 4) -> (N, K).\"\"\"\n",
    "```"
   ]
  },
  {
   "cell_type": "code",
   "execution_count": 30,
   "metadata": {},
   "outputs": [
    {
     "name": "stdout",
     "output_type": "stream",
     "text": [
      "Результат: отлично!\n"
     ]
    }
   ],
   "source": [
    "def batch_similarity(bboxes1, embeddings1, bboxes2, embeddings2, alpha=0.5):\n",
    "    \"\"\"Возвращает значение близости между парами лиц.\n",
    "\n",
    "    Вход:\n",
    "        bboxes1: Первый набор описывающих прямоугольников, матрица размера (N, 4).\n",
    "        embeddings1: Первый набор эмбеддингов, матрица размера (N, 128).\n",
    "        bboxes1: Второй набор описывающих прямоугольников, матрица размера (K, 4).\n",
    "        embeddings2: Второй набор эмбеддингов, матрица размера (K, 128).\n",
    "\n",
    "    Выход: Матрица близости размера (N, K).\n",
    "    \"\"\"\n",
    "    iou = batch_iou(bboxes1, bboxes2)\n",
    "    cos_distances = batch_cosine_distance(embeddings1, embeddings2)\n",
    "    result = alpha * iou + (1 - alpha) * cos_distances\n",
    "    return result\n",
    "\n",
    "\n",
    "assert check.check_batch_similarity(batch_similarity)"
   ]
  },
  {
   "cell_type": "markdown",
   "metadata": {},
   "source": [
    "Функция ниже релизует простой вариант алгоритма Deep SORT.\n",
    "\n",
    "1. Реализация очень похожа на обычный SORT.\n",
    "2. Используется обновлённая функция близости.\n",
    "3. Для каждого трека хранится предыдущий эмбеддинг лица. Он используется для поиска соответствий."
   ]
  },
  {
   "cell_type": "code",
   "execution_count": 31,
   "metadata": {},
   "outputs": [
    {
     "name": "stdout",
     "output_type": "stream",
     "text": [
      "Доля несоответствий с разметкой DeepSORT: 0.10\n"
     ]
    }
   ],
   "source": [
    "from collections import defaultdict\n",
    "\n",
    "from seminar import xysr2ltwh, ltwh2xysr, create_kalman_filter, match_bboxes\n",
    "\n",
    "\n",
    "def track_deep_sort(detections, embeddings, alpha=1, verbose=True):\n",
    "    \"\"\"Сгруппировать прямоугольники с разных кадров используя фильтр Калмана и IoU.\n",
    "\n",
    "    Вход: Список ответов детектора для каждого кадра. Каждый ответ детектора это список\n",
    "          прямоугольников в формате LTWH.\n",
    "\n",
    "    Выход: Список меток прямоугольников для каждого кадра. Метки для каждого кадра это список\n",
    "           целочисленных меток всех прямоугольников кадра.\n",
    "    \"\"\"\n",
    "    num_tracks = 0\n",
    "    track_frames = defaultdict(list)\n",
    "    track_detection_ids = defaultdict(list)\n",
    "    track_embeddings = {}  # Сохранённые эмбеддинги треков.\n",
    "    track_filters = {}\n",
    "    for frame, (frame_detections, frame_embeddings) in enumerate(\n",
    "        zip(detections, embeddings)\n",
    "    ):\n",
    "        if verbose:\n",
    "            print(\"Кадр\", frame)\n",
    "\n",
    "        # Закончить старые треки:\n",
    "        for track in list(track_filters):\n",
    "            last_track_frame = track_frames[track][-1]\n",
    "            if last_track_frame < frame - 2:\n",
    "                del track_filters[track]\n",
    "                if verbose:\n",
    "                    print(\"Трек {} завершён\".format(track))\n",
    "\n",
    "        # Предсказать следующие прямоугольники для треков:\n",
    "        for filter in track_filters.values():\n",
    "            filter.predict()\n",
    "        active_tracks = list(track_filters)\n",
    "        predictions = [xysr2ltwh(track_filters[i].x[:4]) for i in active_tracks]\n",
    "        embeddings = np.asarray([track_embeddings[i] for i in active_tracks]).reshape(\n",
    "            (-1, 128)\n",
    "        )\n",
    "\n",
    "        # Связать предсказания и детекты используя новую функцию близости:\n",
    "\n",
    "        iou = batch_similarity(\n",
    "            predictions, embeddings, frame_detections, frame_embeddings, alpha=alpha\n",
    "        )\n",
    "        matches = match_bboxes(iou)\n",
    "        if verbose:\n",
    "            print(\n",
    "                \"Продолжено треков: {}\".format(\n",
    "                    len([m for m in matches if m is not None])\n",
    "                )\n",
    "            )\n",
    "\n",
    "        # Обновить треки.\n",
    "        for track_id, match in enumerate(matches):\n",
    "            if match is None:\n",
    "                continue\n",
    "            track = active_tracks[track_id]\n",
    "            track_frames[track].append(frame)\n",
    "            track_detection_ids[track].append(match)\n",
    "            track_filters[track].update(ltwh2xysr(frame_detections[match]))\n",
    "            track_embeddings[track] = frame_embeddings[\n",
    "                match\n",
    "            ]  # Сохранить эмбеддинг трека.\n",
    "\n",
    "        # Добавить новые треки:\n",
    "        all_detections = set(range(len(frame_detections)))\n",
    "        matched_detections = {m for m in matches if m is not None}\n",
    "        unmatched_detections = all_detections - matched_detections\n",
    "        for i in unmatched_detections:\n",
    "            track_frames[num_tracks].append(frame)\n",
    "            track_detection_ids[num_tracks].append(i)\n",
    "\n",
    "            bbox = frame_detections[i]\n",
    "            initial_state = list(ltwh2xysr(bbox)) + [0, 0, 0]\n",
    "            track_filters[num_tracks] = create_kalman_filter(initial_state)\n",
    "            track_embeddings[num_tracks] = frame_embeddings[\n",
    "                i\n",
    "            ]  # Сохранить эмбеддинг трека.\n",
    "\n",
    "            if verbose:\n",
    "                print(\"Трек {} создан\".format(num_tracks))\n",
    "            num_tracks += 1\n",
    "\n",
    "    # Сформировать ответ:\n",
    "    labels = [[None] * len(frame_detections) for frame_detections in detections]\n",
    "    for track in track_frames.keys():\n",
    "        for frame, detection_id in zip(track_frames[track], track_detection_ids[track]):\n",
    "            labels[frame][detection_id] = track\n",
    "\n",
    "    # Проверим, что заполнили все метки:\n",
    "    for frame_labels in labels:\n",
    "        for label in frame_labels:\n",
    "            assert label is not None\n",
    "\n",
    "    return labels\n",
    "\n",
    "\n",
    "labels = track_deep_sort(detections, embeddings, alpha=0.5, verbose=False)\n",
    "error = seminar.eval_mismatch_rate(labels, markup)\n",
    "print(\"Доля несоответствий с разметкой DeepSORT: {:.2f}\".format(error))"
   ]
  },
  {
   "cell_type": "markdown",
   "metadata": {},
   "source": [
    "Если выставим $\\alpha = 1$, то получим обычный SORT."
   ]
  },
  {
   "cell_type": "code",
   "execution_count": 32,
   "metadata": {},
   "outputs": [
    {
     "name": "stdout",
     "output_type": "stream",
     "text": [
      "Доля несоответствий с разметкой обычного SORT: 0.17\n"
     ]
    }
   ],
   "source": [
    "labels = track_deep_sort(detections, embeddings, alpha=1, verbose=False)\n",
    "error = seminar.eval_mismatch_rate(labels, markup)\n",
    "print(\"Доля несоответствий с разметкой обычного SORT: {:.2f}\".format(error))"
   ]
  },
  {
   "cell_type": "markdown",
   "metadata": {},
   "source": [
    "### Визуализация"
   ]
  },
  {
   "cell_type": "code",
   "execution_count": 33,
   "metadata": {},
   "outputs": [
    {
     "name": "stderr",
     "output_type": "stream",
     "text": [
      " 99%|█████████▉| 118/119 [00:01<00:00, 98.04it/s]\n"
     ]
    }
   ],
   "source": [
    "labels = track_deep_sort(detections, embeddings, alpha=0.5, verbose=False)\n",
    "seminar.render_video_bboxes(VIDEO_PATH, OUTPUT_PATH, detections, labels)"
   ]
  },
  {
   "cell_type": "markdown",
   "metadata": {},
   "source": [
    "На видео прямоугольники разных треков помечены разным цветом.\n",
    "\n",
    "Мигание цвета на каких-то лицах - это ошибки трекинга. Более точная настройка параметров (STD ошибок в фильтре Калмана) может решить проблему. Часть проблем нельзя решить методом SORT на видео с низким FPS."
   ]
  },
  {
   "cell_type": "code",
   "execution_count": 34,
   "metadata": {},
   "outputs": [
    {
     "name": "stdout",
     "output_type": "stream",
     "text": [
      "data/output-demo-deep.mp4\n"
     ]
    },
    {
     "data": {
      "text/html": [
       "<video src=\"data/output-demo-deep.mp4\" controls  >\n",
       "      Your browser does not support the <code>video</code> element.\n",
       "    </video>"
      ],
      "text/plain": [
       "<IPython.core.display.Video object>"
      ]
     },
     "execution_count": 34,
     "metadata": {},
     "output_type": "execute_result"
    }
   ],
   "source": [
    "print(OUTPUT_PATH)\n",
    "Video(OUTPUT_PATH)"
   ]
  },
  {
   "cell_type": "markdown",
   "metadata": {},
   "source": [
    "ВОПРОС. В каких случаях трекинг работает хорошо, а в каких плохо?"
   ]
  },
  {
   "cell_type": "markdown",
   "metadata": {},
   "source": [
    "# Ссылки\n",
    "\n",
    "## Фильтр Калмана\n",
    "\n",
    "https://habr.com/ru/post/166693/\n",
    "\n",
    "https://en.wikipedia.org/wiki/Kalman_filter\n",
    "\n",
    "## Статьи\n",
    "\n",
    "SORT: https://arxiv.org/abs/1602.00763\n",
    "\n",
    "DeepSORT: https://arxiv.org/abs/1703.07402\n",
    "\n",
    "## Реализации\n",
    "\n",
    "Kalman: https://filterpy.readthedocs.io/en/latest/kalman/KalmanFilter.html\n",
    "\n",
    "SORT: https://github.com/abewley/sort\n",
    "\n",
    "DeepSORT: https://github.com/nwojke/deep_sort"
   ]
  }
 ],
 "metadata": {
  "kernelspec": {
   "display_name": "Python 3",
   "language": "python",
   "name": "python3"
  },
  "language_info": {
   "codemirror_mode": {
    "name": "ipython",
    "version": 3
   },
   "file_extension": ".py",
   "mimetype": "text/x-python",
   "name": "python",
   "nbconvert_exporter": "python",
   "pygments_lexer": "ipython3",
   "version": "3.7.4"
  }
 },
 "nbformat": 4,
 "nbformat_minor": 4
}
